{
 "cells": [
  {
   "cell_type": "markdown",
   "id": "a9ba60e2",
   "metadata": {},
   "source": [
    "- Aution Software CodeAThon Link: https://github.com/AuctionSoftwareCodeAThon/2024\n",
    "- Emotions: https://www.extremetech.com/extreme/173748-human-emotions-mapped-for-the-first-time-shows-where-we-feel-love-fear-and-shame"
   ]
  },
  {
   "cell_type": "code",
   "execution_count": 102,
   "id": "bcb9d6c3",
   "metadata": {},
   "outputs": [],
   "source": [
    "import pandas as pd\n",
    "import numpy as np\n",
    "import seaborn as sns\n",
    "import matplotlib.pyplot as plt\n",
    "\n",
    "from importlib import reload\n",
    "\n",
    "from tqdm import tqdm\n",
    "\n",
    "import utils\n",
    "\n",
    "import warnings\n",
    "from IPython.display import display\n",
    "\n",
    "warnings.filterwarnings('ignore')"
   ]
  },
  {
   "cell_type": "markdown",
   "id": "73fad2ba",
   "metadata": {},
   "source": [
    "## Load data and preprocess lyrics"
   ]
  },
  {
   "cell_type": "code",
   "execution_count": 250,
   "id": "91cf3d99",
   "metadata": {},
   "outputs": [],
   "source": [
    "SPOTIFY_MILLION_SONG_DATASET = \"Spotify Million Song Dataset_exported.csv\"\n",
    "df = pd.read_csv(SPOTIFY_MILLION_SONG_DATASET)"
   ]
  },
  {
   "cell_type": "code",
   "execution_count": 251,
   "id": "60744e48",
   "metadata": {},
   "outputs": [
    {
     "name": "stderr",
     "output_type": "stream",
     "text": [
      "57650it [00:06, 8857.17it/s] \n",
      "100%|█████████████████████████████████████████████████████████████████████████| 57650/57650 [00:01<00:00, 46151.06it/s]\n"
     ]
    },
    {
     "name": "stdout",
     "output_type": "stream",
     "text": [
      "CPU times: total: 11.9 s\n",
      "Wall time: 22.9 s\n"
     ]
    }
   ],
   "source": [
    "%%time\n",
    "Processor = utils.PreprocessorAndFeatureGenerator(df=df)\n",
    "\n",
    "texts_filtered = Processor.df.text_filtered.to_list()\n",
    "\n",
    "Processor.generate_tfidf_dict(texts=texts_filtered)\n",
    "\n",
    "tfidf_np_matrix = Processor.tfidf_to_matrix(tfidf_matrix=Processor.TFIDF_DICT, texts=texts_filtered)"
   ]
  },
  {
   "cell_type": "markdown",
   "id": "7a694438",
   "metadata": {},
   "source": [
    "## K-Means Clustering"
   ]
  },
  {
   "cell_type": "code",
   "execution_count": 246,
   "id": "c27bdf38",
   "metadata": {},
   "outputs": [],
   "source": [
    "reload(utils)\n",
    "Classifier = utils.MoodClassifier(k=7, max_iters=5)"
   ]
  },
  {
   "cell_type": "code",
   "execution_count": 252,
   "id": "5791b3c5",
   "metadata": {},
   "outputs": [
    {
     "name": "stderr",
     "output_type": "stream",
     "text": [
      "100%|████████████████████████████████████████████████████████████████████████████████████| 5/5 [00:11<00:00,  2.24s/it]\n"
     ]
    },
    {
     "data": {
      "text/plain": [
       "{2: 37585, 1: 3287, 3: 3104, 0: 4655, 6: 1411, 4: 5120, 5: 2488}"
      ]
     },
     "execution_count": 252,
     "metadata": {},
     "output_type": "execute_result"
    }
   ],
   "source": [
    "clusters, centroids = Classifier.kmeans(X=tfidf_np_matrix, seed=6)\n",
    "\n",
    "d = {}\n",
    "for num in clusters:\n",
    "    d[num] = d.get(num, 0) + 1\n",
    "d"
   ]
  },
  {
   "cell_type": "code",
   "execution_count": 266,
   "id": "e2571d0e",
   "metadata": {},
   "outputs": [],
   "source": [
    "df_raw = pd.read_csv(SPOTIFY_MILLION_SONG_DATASET)\n",
    "df_raw['cluster'] = clusters"
   ]
  },
  {
   "cell_type": "code",
   "execution_count": 267,
   "id": "994b7be3",
   "metadata": {},
   "outputs": [],
   "source": [
    "df_raw.to_csv(\"clustered-lyrics.csv\", index=False)"
   ]
  },
  {
   "cell_type": "code",
   "execution_count": 268,
   "id": "10e2e26d",
   "metadata": {},
   "outputs": [
    {
     "data": {
      "text/plain": [
       "cluster\n",
       "2    37585\n",
       "4     5120\n",
       "0     4655\n",
       "1     3287\n",
       "3     3104\n",
       "5     2488\n",
       "6     1411\n",
       "Name: count, dtype: int64"
      ]
     },
     "execution_count": 268,
     "metadata": {},
     "output_type": "execute_result"
    }
   ],
   "source": [
    "df_raw.cluster.value_counts()"
   ]
  },
  {
   "cell_type": "markdown",
   "id": "c6625379",
   "metadata": {},
   "source": [
    "## Naming Clusters"
   ]
  },
  {
   "cell_type": "code",
   "execution_count": 271,
   "id": "9fa66cfb",
   "metadata": {},
   "outputs": [],
   "source": [
    "cluster_to_mood_map = {\n",
    "    0: \"FEAR\",\n",
    "    1: \"SADNESS\",\n",
    "    2: \"HAPPINESS\",\n",
    "    3: \"DISGUST\",\n",
    "    4: \"ANGER\",\n",
    "    5: \"SURPRISE\",\n",
    "    6: \"NEUTRAL\"\n",
    "}"
   ]
  },
  {
   "cell_type": "code",
   "execution_count": 281,
   "id": "871644d5",
   "metadata": {},
   "outputs": [],
   "source": [
    "summary = {}\n",
    "\n",
    "for key, count in d.items():\n",
    "    summary[cluster_to_mood_map[key]] = df_raw.cluster.value_counts()[key]\n"
   ]
  },
  {
   "cell_type": "code",
   "execution_count": 293,
   "id": "6cacc57f",
   "metadata": {},
   "outputs": [
    {
     "data": {
      "text/html": [
       "<div>\n",
       "<style scoped>\n",
       "    .dataframe tbody tr th:only-of-type {\n",
       "        vertical-align: middle;\n",
       "    }\n",
       "\n",
       "    .dataframe tbody tr th {\n",
       "        vertical-align: top;\n",
       "    }\n",
       "\n",
       "    .dataframe thead th {\n",
       "        text-align: right;\n",
       "    }\n",
       "</style>\n",
       "<table border=\"1\" class=\"dataframe\">\n",
       "  <thead>\n",
       "    <tr style=\"text-align: right;\">\n",
       "      <th></th>\n",
       "      <th>count</th>\n",
       "    </tr>\n",
       "  </thead>\n",
       "  <tbody>\n",
       "    <tr>\n",
       "      <th>HAPPINESS</th>\n",
       "      <td>37585</td>\n",
       "    </tr>\n",
       "    <tr>\n",
       "      <th>SADNESS</th>\n",
       "      <td>3287</td>\n",
       "    </tr>\n",
       "    <tr>\n",
       "      <th>DISGUST</th>\n",
       "      <td>3104</td>\n",
       "    </tr>\n",
       "    <tr>\n",
       "      <th>FEAR</th>\n",
       "      <td>4655</td>\n",
       "    </tr>\n",
       "    <tr>\n",
       "      <th>NEUTRAL</th>\n",
       "      <td>1411</td>\n",
       "    </tr>\n",
       "    <tr>\n",
       "      <th>ANGER</th>\n",
       "      <td>5120</td>\n",
       "    </tr>\n",
       "    <tr>\n",
       "      <th>SURPRISE</th>\n",
       "      <td>2488</td>\n",
       "    </tr>\n",
       "  </tbody>\n",
       "</table>\n",
       "</div>"
      ],
      "text/plain": [
       "           count\n",
       "HAPPINESS  37585\n",
       "SADNESS     3287\n",
       "DISGUST     3104\n",
       "FEAR        4655\n",
       "NEUTRAL     1411\n",
       "ANGER       5120\n",
       "SURPRISE    2488"
      ]
     },
     "execution_count": 293,
     "metadata": {},
     "output_type": "execute_result"
    }
   ],
   "source": [
    "pd.DataFrame(list(summary.values()), list(summary.keys()), columns=['count'])"
   ]
  },
  {
   "cell_type": "markdown",
   "id": "4ea722fd",
   "metadata": {},
   "source": [
    "## Classifying a new song"
   ]
  },
  {
   "cell_type": "code",
   "execution_count": 256,
   "id": "3f4b6df5",
   "metadata": {},
   "outputs": [
    {
     "name": "stdout",
     "output_type": "stream",
     "text": [
      "Its always fair weather,  \n",
      "When hep cats get together!  \n",
      "And every time they meet,  \n",
      "Heres the way y\n"
     ]
    }
   ],
   "source": [
    "new_song_lyric = df_raw.sample()['text'].values[0]\n",
    "print(new_song_lyric[:100])\n",
    "\n",
    "processed_song_lyrics = [Processor.preprocess_lyrics(new_song_lyric)]"
   ]
  },
  {
   "cell_type": "code",
   "execution_count": 258,
   "id": "1202c79d",
   "metadata": {},
   "outputs": [
    {
     "name": "stderr",
     "output_type": "stream",
     "text": [
      "1it [00:00, 351.84it/s]\n"
     ]
    }
   ],
   "source": [
    "test_tfidf_dict = Processor.generate_tfidf_dict(texts=processed_song_lyrics, mode=\"inference\")\n",
    "test_tfidf_np_matrix = Processor.tfidf_to_matrix(tfidf_matrix=test_tfidf_dict, texts=processed_song_lyrics)"
   ]
  },
  {
   "cell_type": "code",
   "execution_count": 273,
   "id": "10e3549c",
   "metadata": {},
   "outputs": [
    {
     "data": {
      "text/plain": [
       "'HAPPINESS'"
      ]
     },
     "execution_count": 273,
     "metadata": {},
     "output_type": "execute_result"
    }
   ],
   "source": [
    "cluster_to_mood_map[Classifier.classify(batch=test_tfidf_np_matrix)[0]]"
   ]
  },
  {
   "cell_type": "code",
   "execution_count": null,
   "id": "00881d11",
   "metadata": {},
   "outputs": [],
   "source": []
  },
  {
   "cell_type": "code",
   "execution_count": null,
   "id": "a23cd690",
   "metadata": {},
   "outputs": [],
   "source": []
  },
  {
   "cell_type": "code",
   "execution_count": 161,
   "id": "c2dbef6e",
   "metadata": {},
   "outputs": [],
   "source": [
    "lengths = df.text.apply(lambda x: len(x))"
   ]
  },
  {
   "cell_type": "code",
   "execution_count": 163,
   "id": "2d022fb3",
   "metadata": {},
   "outputs": [
    {
     "data": {
      "text/html": [
       "<div>\n",
       "<style scoped>\n",
       "    .dataframe tbody tr th:only-of-type {\n",
       "        vertical-align: middle;\n",
       "    }\n",
       "\n",
       "    .dataframe tbody tr th {\n",
       "        vertical-align: top;\n",
       "    }\n",
       "\n",
       "    .dataframe thead th {\n",
       "        text-align: right;\n",
       "    }\n",
       "</style>\n",
       "<table border=\"1\" class=\"dataframe\">\n",
       "  <thead>\n",
       "    <tr style=\"text-align: right;\">\n",
       "      <th></th>\n",
       "      <th>count</th>\n",
       "      <th>mean</th>\n",
       "      <th>std</th>\n",
       "      <th>min</th>\n",
       "      <th>5%</th>\n",
       "      <th>10%</th>\n",
       "      <th>25%</th>\n",
       "      <th>50%</th>\n",
       "      <th>75%</th>\n",
       "      <th>90%</th>\n",
       "      <th>95%</th>\n",
       "      <th>100%</th>\n",
       "      <th>max</th>\n",
       "    </tr>\n",
       "  </thead>\n",
       "  <tbody>\n",
       "    <tr>\n",
       "      <th>text</th>\n",
       "      <td>57650.0</td>\n",
       "      <td>111.809315</td>\n",
       "      <td>59.929734</td>\n",
       "      <td>21.0</td>\n",
       "      <td>48.0</td>\n",
       "      <td>55.0</td>\n",
       "      <td>72.0</td>\n",
       "      <td>98.0</td>\n",
       "      <td>133.0</td>\n",
       "      <td>181.0</td>\n",
       "      <td>231.0</td>\n",
       "      <td>688.0</td>\n",
       "      <td>688.0</td>\n",
       "    </tr>\n",
       "  </tbody>\n",
       "</table>\n",
       "</div>"
      ],
      "text/plain": [
       "        count        mean        std   min    5%   10%   25%   50%    75%  \\\n",
       "text  57650.0  111.809315  59.929734  21.0  48.0  55.0  72.0  98.0  133.0   \n",
       "\n",
       "        90%    95%   100%    max  \n",
       "text  181.0  231.0  688.0  688.0  "
      ]
     },
     "metadata": {},
     "output_type": "display_data"
    },
    {
     "data": {
      "image/png": "[encoded data removed]",
      "text/plain": [
       "<Figure size 800x400 with 1 Axes>"
      ]
     },
     "metadata": {},
     "output_type": "display_data"
    }
   ],
   "source": [
    "display(pd.DataFrame(lengths.describe(percentiles=[0.05, 0.1, 0.25, 0.5, 0.75, 0.9, 0.95, 1])).T)\n",
    "\n",
    "plt.figure(figsize=(8,4))\n",
    "sns.distplot(lengths, bins=100)\n",
    "plt.title(\"Word count distribution of raw song lyrics\")\n",
    "plt.xlabel(\"Word count in the lyrics\")\n",
    "plt.show()\n",
    "\n",
    "QUANTILE_NINETY = lengths.quantile(0.9)"
   ]
  },
  {
   "cell_type": "code",
   "execution_count": 164,
   "id": "526bd30b",
   "metadata": {},
   "outputs": [],
   "source": [
    "CORPUS = dict()"
   ]
  },
  {
   "cell_type": "code",
   "execution_count": 167,
   "id": "b557240e",
   "metadata": {},
   "outputs": [],
   "source": [
    "for index in range(len(df)):\n",
    "    text = df.iloc[index]['text']\n",
    "    for token in text:\n",
    "        CORPUS[token] = CORPUS.get(token, 0) + 1"
   ]
  },
  {
   "cell_type": "code",
   "execution_count": 168,
   "id": "78a75dad",
   "metadata": {},
   "outputs": [],
   "source": [
    "sorted_frequencies = sorted(CORPUS.items(), key=lambda item: item[1], reverse=True)"
   ]
  },
  {
   "cell_type": "code",
   "execution_count": 171,
   "id": "b8e0ae7d",
   "metadata": {},
   "outputs": [
    {
     "data": {
      "text/plain": [
       "149365"
      ]
     },
     "execution_count": 171,
     "metadata": {},
     "output_type": "execute_result"
    }
   ],
   "source": [
    "len(sorted_frequencies)"
   ]
  },
  {
   "cell_type": "code",
   "execution_count": 172,
   "id": "8db5e19f",
   "metadata": {},
   "outputs": [
    {
     "data": {
      "text/plain": [
       "57650"
      ]
     },
     "execution_count": 172,
     "metadata": {},
     "output_type": "execute_result"
    }
   ],
   "source": [
    "len(df)"
   ]
  },
  {
   "cell_type": "code",
   "execution_count": null,
   "id": "537c7d7b",
   "metadata": {},
   "outputs": [],
   "source": []
  }
 ],
 "metadata": {
  "kernelspec": {
   "display_name": "Python 3 (ipykernel)",
   "language": "python",
   "name": "python3"
  },
  "language_info": {
   "codemirror_mode": {
    "name": "ipython",
    "version": 3
   },
   "file_extension": ".py",
   "mimetype": "text/x-python",
   "name": "python",
   "nbconvert_exporter": "python",
   "pygments_lexer": "ipython3",
   "version": "3.10.13"
  }
 },
 "nbformat": 4,
 "nbformat_minor": 5
}
