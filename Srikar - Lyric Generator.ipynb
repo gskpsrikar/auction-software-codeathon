{
 "cells": [
  {
   "cell_type": "code",
   "execution_count": 1,
   "id": "78b3cb6e",
   "metadata": {},
   "outputs": [],
   "source": [
    "import pandas as pd\n",
    "import numpy as np\n",
    "import seaborn as sns\n",
    "import matplotlib.pyplot as plt\n",
    "\n",
    "\n",
    "import numpy as np\n",
    "from collections import defaultdict\n",
    "import random\n",
    "\n",
    "from tqdm import tqdm\n",
    "\n",
    "import utils\n",
    "\n",
    "import warnings\n",
    "from IPython.display import display\n",
    "\n",
    "warnings.filterwarnings('ignore')"
   ]
  },
  {
   "cell_type": "code",
   "execution_count": 111,
   "id": "5311af3d",
   "metadata": {},
   "outputs": [],
   "source": [
    "cluster_to_mood_map = {\n",
    "    0: \"FEAR\",\n",
    "    1: \"SADNESS\",\n",
    "    2: \"HAPPINESS\",\n",
    "    3: \"DISGUST\",\n",
    "    4: \"ANGER\",\n",
    "    5: \"SURPRISE\",\n",
    "    6: \"NEUTRAL\"\n",
    "}\n",
    "\n",
    "df = pd.read_csv(\"clustered-lyrics.csv\")\n",
    "df[\"mood\"] = df.cluster.apply(lambda x: cluster_to_mood_map[x])"
   ]
  },
  {
   "cell_type": "code",
   "execution_count": 112,
   "id": "a960c24c",
   "metadata": {},
   "outputs": [],
   "source": [
    "def preprocess_lyrics(text):\n",
    "    text = text.lower()\n",
    "    text = \"\".join([char for char in text if char.isalpha() or char == \" \"])\n",
    "    return text"
   ]
  },
  {
   "cell_type": "code",
   "execution_count": 127,
   "id": "af9d22bc",
   "metadata": {},
   "outputs": [],
   "source": [
    "def generate_bigram_model(df, mood):\n",
    "\n",
    "    text = \" \\n \".join(df[df.mood == mood].text.to_list())\n",
    "\n",
    "    tokens = text.split()\n",
    "    \n",
    "    bigrams = [(tokens[i], tokens[i+1]) for i in range(len(tokens)-1)]\n",
    "    \n",
    "    # N-gram model\n",
    "    model = defaultdict(lambda: defaultdict(int))\n",
    "    for prev_word, next_word in bigrams:\n",
    "        model[prev_word][next_word] += 1\n",
    "\n",
    "    for prev_word in model:\n",
    "        total_count = float(sum(model[prev_word].values()))\n",
    "        for next_word in model[prev_word]:\n",
    "            model[prev_word][next_word] /= total_count\n",
    "    \n",
    "    return model"
   ]
  },
  {
   "cell_type": "code",
   "execution_count": 128,
   "id": "eab85ce1",
   "metadata": {},
   "outputs": [],
   "source": [
    "def generate_text(model, start_word, num_words=50):\n",
    "    \n",
    "    current_word = start_word\n",
    "    sentence = [current_word]\n",
    "    for _ in range(num_words-1):\n",
    "        next_words = list(model[current_word].keys())\n",
    "        probabilities = list(model[current_word].values())\n",
    "        if not next_words:\n",
    "            break\n",
    "        next_word = np.random.choice(next_words, p=probabilities)\n",
    "        sentence.append(next_word)\n",
    "        current_word = next_word\n",
    "    \n",
    "    return ' '.join(sentence)"
   ]
  },
  {
   "cell_type": "code",
   "execution_count": 142,
   "id": "b942853e",
   "metadata": {},
   "outputs": [],
   "source": [
    "model = generate_bigram_model(df= df,mood=\"FEAR\")"
   ]
  },
  {
   "cell_type": "code",
   "execution_count": 143,
   "id": "ba578226",
   "metadata": {},
   "outputs": [
    {
     "name": "stdout",
     "output_type": "stream",
     "text": [
      "Grew up on Black limousines We don't look what I know I wave over to lose Tonight I guess I'm just keep tryin' to tears away I only qualify For could I picked up And I guess you see is cold dead dog's been humbled myself in your fault y'all can't take a job in charity he detonates Never leaves the highway I look I wanna come back to watch the sound Of all the prize on the heart Well the sun Her mother Come as a story about love? Where's the lonely And I feel Make this is Brooklyn\n"
     ]
    }
   ],
   "source": [
    "# Generate text\n",
    "start_word = random.choice(list(model.keys()))\n",
    "generated_text = generate_text(model, start_word=start_word, num_words=100)\n",
    "print(generated_text)"
   ]
  },
  {
   "cell_type": "code",
   "execution_count": null,
   "id": "983fa56d",
   "metadata": {},
   "outputs": [],
   "source": []
  }
 ],
 "metadata": {
  "kernelspec": {
   "display_name": "Python 3 (ipykernel)",
   "language": "python",
   "name": "python3"
  },
  "language_info": {
   "codemirror_mode": {
    "name": "ipython",
    "version": 3
   },
   "file_extension": ".py",
   "mimetype": "text/x-python",
   "name": "python",
   "nbconvert_exporter": "python",
   "pygments_lexer": "ipython3",
   "version": "3.10.13"
  }
 },
 "nbformat": 4,
 "nbformat_minor": 5
}
